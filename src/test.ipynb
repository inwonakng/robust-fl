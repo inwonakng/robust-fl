{
 "cells": [
  {
   "cell_type": "code",
   "execution_count": 1,
   "metadata": {},
   "outputs": [
    {
     "name": "stderr",
     "output_type": "stream",
     "text": [
      "/home/inwon/research/robust-fl/venv/lib/python3.10/site-packages/tqdm/auto.py:21: TqdmWarning: IProgress not found. Please update jupyter and ipywidgets. See https://ipywidgets.readthedocs.io/en/stable/user_install.html\n",
      "  from .autonotebook import tqdm as notebook_tqdm\n"
     ]
    }
   ],
   "source": [
    "import torch\n",
    "import torchvision.datasets as datasets\n",
    "from simulator import Simulator\n",
    "\n",
    "mnist_trainset = datasets.MNIST(root='../data', train=True, download=True, transform=None)\n",
    "mnist_testset = datasets.MNIST(root='../data', train=False, download=True, transform=None)\n",
    "\n",
    "x_train = mnist_trainset.data.flatten(1).float()\n",
    "y_train = mnist_trainset.targets.long()\n",
    "\n",
    "x_test = mnist_testset.data.flatten(1).float()\n",
    "y_test = mnist_testset.targets.long()\n",
    "\n",
    "sim = Simulator(\n",
    "    x_train = x_train, \n",
    "    y_train = y_train, \n",
    "    x_test = x_test, \n",
    "    y_test = y_test, \n",
    "    agg_type = 'FedAvg',\n",
    "    agg_args = {},\n",
    "    model_type = 'MLP',\n",
    "    model_args = {\n",
    "        'in_features': 28*28,\n",
    "        'out_classes': 10,\n",
    "        'hidden_layers': [100,100]\n",
    "    },\n",
    "    n_clients = 100,\n",
    "    n_malicious_clients = 0,\n",
    "    n_clients_per_round = 10,\n",
    "    max_delay = 0,\n",
    "    n_delay_min = 0,\n",
    "    n_delay_max = 0,\n",
    "    use_delay = False,\n",
    "    poison_data = False,\n",
    ")"
   ]
  },
  {
   "cell_type": "code",
   "execution_count": 3,
   "metadata": {},
   "outputs": [
    {
     "data": {
      "text/plain": [
       "tensor([[0., 0., 0.,  ..., 0., 0., 0.],\n",
       "        [0., 0., 0.,  ..., 0., 0., 0.],\n",
       "        [0., 0., 0.,  ..., 0., 0., 0.],\n",
       "        ...,\n",
       "        [0., 0., 0.,  ..., 0., 0., 0.],\n",
       "        [0., 0., 0.,  ..., 0., 0., 0.],\n",
       "        [0., 0., 0.,  ..., 0., 0., 0.]])"
      ]
     },
     "execution_count": 3,
     "metadata": {},
     "output_type": "execute_result"
    }
   ],
   "source": [
    "sim.clients[0].x"
   ]
  }
 ],
 "metadata": {
  "kernelspec": {
   "display_name": "venv",
   "language": "python",
   "name": "python3"
  },
  "language_info": {
   "codemirror_mode": {
    "name": "ipython",
    "version": 3
   },
   "file_extension": ".py",
   "mimetype": "text/x-python",
   "name": "python",
   "nbconvert_exporter": "python",
   "pygments_lexer": "ipython3",
   "version": "3.10.9"
  },
  "orig_nbformat": 4
 },
 "nbformat": 4,
 "nbformat_minor": 2
}
