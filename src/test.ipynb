{
 "cells": [
  {
   "cell_type": "code",
   "execution_count": 1,
   "metadata": {},
   "outputs": [],
   "source": [
    "from tqdm.auto import tqdm\n",
    "from sklearn.metrics import accuracy_score\n",
    "import torch\n",
    "import numpy as np\n",
    "from simulator import Simulator\n",
    "import yaml\n",
    "import pandas as pd\n",
    "\n",
    "agg_config = yaml.safe_load(open('../configurations/aggregators/fedavg.yaml'))\n",
    "client_config = yaml.safe_load(open('../configurations/clients/no_poison_no_straggle.yaml'))\n",
    "data_config = yaml.safe_load(open('../configurations/datasets/mnist_0_1.yaml'))\n",
    "\n",
    "sim = Simulator(\n",
    "    **agg_config,\n",
    "    **client_config,\n",
    "    **data_config,\n",
    ")"
   ]
  }
 ],
 "metadata": {
  "kernelspec": {
   "display_name": "robust-fl",
   "language": "python",
   "name": "python3"
  },
  "language_info": {
   "codemirror_mode": {
    "name": "ipython",
    "version": 3
   },
   "file_extension": ".py",
   "mimetype": "text/x-python",
   "name": "python",
   "nbconvert_exporter": "python",
   "pygments_lexer": "ipython3",
   "version": "3.10.10"
  },
  "orig_nbformat": 4
 },
 "nbformat": 4,
 "nbformat_minor": 2
}
