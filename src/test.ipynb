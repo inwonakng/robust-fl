{
 "cells": [
  {
   "cell_type": "code",
   "execution_count": 1,
   "metadata": {},
   "outputs": [
    {
     "data": {
      "application/vnd.jupyter.widget-view+json": {
       "model_id": "f772cda018d444e3ab0073dd2dbb1e1e",
       "version_major": 2,
       "version_minor": 0
      },
      "text/plain": [
       "Running output/MNIST/MLP/ClusterAgg/average/no_straggle:   0%|          | 0/100 [00:00<?, ?it/s]"
      ]
     },
     "metadata": {},
     "output_type": "display_data"
    },
    {
     "name": "stdout",
     "output_type": "stream",
     "text": [
      "Simulator -- got 20 updates to incorporate\n",
      "Simulator -- avg loss: 2.320893573760986\n",
      "Simulator -- client avg train acc: 0.7166666666666667\n",
      "Simulator -- client avg test acc: 0.6640898345153664\n"
     ]
    },
    {
     "name": "stderr",
     "output_type": "stream",
     "text": [
      "OMP: Info #276: omp_set_nested routine deprecated, please use omp_set_max_active_levels instead.\n"
     ]
    },
    {
     "name": "stdout",
     "output_type": "stream",
     "text": [
      "Simulator -- Global model test acc: 0.46335697399527187\n",
      "Simulator -- got 20 updates to incorporate\n",
      "Simulator -- avg loss: 1.5979796648025513\n",
      "Simulator -- client avg train acc: 0.4499999999999999\n",
      "Simulator -- client avg test acc: 0.4633569739952719\n",
      "Simulator -- Global model test acc: 0.46335697399527187\n",
      "Simulator -- got 20 updates to incorporate\n",
      "Simulator -- avg loss: 1.5979796648025513\n",
      "Simulator -- client avg train acc: 0.5125\n",
      "Simulator -- client avg test acc: 0.4633569739952719\n"
     ]
    },
    {
     "name": "stderr",
     "output_type": "stream",
     "text": [
      "/home/kangi/.conda/envs/robust-fl/lib/python3.10/site-packages/sklearn/cluster/_affinity_propagation.py:143: ConvergenceWarning: Affinity propagation did not converge, this model may return degenerate cluster centers and labels.\n",
      "  warnings.warn(\n",
      "/home/kangi/.conda/envs/robust-fl/lib/python3.10/site-packages/sklearn/cluster/_affinity_propagation.py:143: ConvergenceWarning: Affinity propagation did not converge, this model may return degenerate cluster centers and labels.\n",
      "  warnings.warn(\n",
      "/home/kangi/.conda/envs/robust-fl/lib/python3.10/site-packages/sklearn/cluster/_affinity_propagation.py:143: ConvergenceWarning: Affinity propagation did not converge, this model may return degenerate cluster centers and labels.\n",
      "  warnings.warn(\n"
     ]
    },
    {
     "name": "stdout",
     "output_type": "stream",
     "text": [
      "Simulator -- Global model test acc: 0.46335697399527187\n",
      "Simulator -- got 20 updates to incorporate\n",
      "Simulator -- avg loss: 1.5979796648025513\n",
      "Simulator -- client avg train acc: 0.45\n",
      "Simulator -- client avg test acc: 0.4633569739952719\n",
      "Simulator -- Global model test acc: 0.46335697399527187\n",
      "Simulator -- got 20 updates to incorporate\n",
      "Simulator -- avg loss: 1.5979796648025513\n",
      "Simulator -- client avg train acc: 0.4833333333333333\n",
      "Simulator -- client avg test acc: 0.4633569739952719\n"
     ]
    },
    {
     "name": "stderr",
     "output_type": "stream",
     "text": [
      "/home/kangi/.conda/envs/robust-fl/lib/python3.10/site-packages/sklearn/cluster/_affinity_propagation.py:143: ConvergenceWarning: Affinity propagation did not converge, this model may return degenerate cluster centers and labels.\n",
      "  warnings.warn(\n"
     ]
    },
    {
     "name": "stdout",
     "output_type": "stream",
     "text": [
      "Simulator -- Global model test acc: 0.5049645390070922\n",
      "Simulator -- got 20 updates to incorporate\n",
      "Simulator -- avg loss: nan\n",
      "Simulator -- client avg train acc: 0.4541666666666666\n",
      "Simulator -- client avg test acc: 0.4633569739952719\n"
     ]
    },
    {
     "ename": "ValueError",
     "evalue": "Input contains NaN.",
     "output_type": "error",
     "traceback": [
      "\u001b[0;31m---------------------------------------------------------------------------\u001b[0m",
      "\u001b[0;31mValueError\u001b[0m                                Traceback (most recent call last)",
      "Cell \u001b[0;32mIn[1], line 38\u001b[0m\n\u001b[1;32m     35\u001b[0m \u001b[39mprint\u001b[39m(\u001b[39mf\u001b[39m\u001b[39m'\u001b[39m\u001b[39mSimulator -- client avg test acc: \u001b[39m\u001b[39m{\u001b[39;00m\u001b[39msum\u001b[39m(test_acc_scores)\u001b[39m \u001b[39m\u001b[39m/\u001b[39m\u001b[39m \u001b[39m\u001b[39mlen\u001b[39m(test_acc_scores)\u001b[39m}\u001b[39;00m\u001b[39m'\u001b[39m)\n\u001b[1;32m     37\u001b[0m \u001b[39m# Step 4. Update the global model with the finished local updates\u001b[39;00m\n\u001b[0;32m---> 38\u001b[0m new_state \u001b[39m=\u001b[39m sim\u001b[39m.\u001b[39;49maggregator(sim\u001b[39m.\u001b[39;49mglobal_model, to_update_global)\n\u001b[1;32m     40\u001b[0m \u001b[39mif\u001b[39;00m new_state \u001b[39mis\u001b[39;00m \u001b[39mnot\u001b[39;00m \u001b[39mNone\u001b[39;00m:\n\u001b[1;32m     41\u001b[0m     sim\u001b[39m.\u001b[39mglobal_model\u001b[39m.\u001b[39mset_state(new_state)\n",
      "File \u001b[0;32m~/robust-fl/src/aggregators/aggregators.py:14\u001b[0m, in \u001b[0;36mAggregator.__call__\u001b[0;34m(self, global_model, updates)\u001b[0m\n\u001b[1;32m     12\u001b[0m \u001b[39mdef\u001b[39;00m \u001b[39m__call__\u001b[39m(\u001b[39mself\u001b[39m,global_model:Trainer, updates:List[Update]) \u001b[39m-\u001b[39m\u001b[39m>\u001b[39m \u001b[39mNone\u001b[39;00m:\n\u001b[1;32m     13\u001b[0m     \u001b[39mif\u001b[39;00m \u001b[39mlen\u001b[39m(updates) \u001b[39m>\u001b[39m \u001b[39m0\u001b[39m:\n\u001b[0;32m---> 14\u001b[0m         \u001b[39mreturn\u001b[39;00m \u001b[39mself\u001b[39;49m\u001b[39m.\u001b[39;49maggregate(global_model, updates)\n\u001b[1;32m     15\u001b[0m     \u001b[39melse\u001b[39;00m: \n\u001b[1;32m     16\u001b[0m         \u001b[39mreturn\u001b[39;00m \u001b[39mNone\u001b[39;00m\n",
      "File \u001b[0;32m~/robust-fl/src/aggregators/cluster_agg.py:62\u001b[0m, in \u001b[0;36mClusterAgg.aggregate\u001b[0;34m(self, global_model, updates)\u001b[0m\n\u001b[1;32m     59\u001b[0m final_agg \u001b[39m=\u001b[39m []\n\u001b[1;32m     61\u001b[0m \u001b[39mfor\u001b[39;00m component \u001b[39min\u001b[39;00m \u001b[39mmap\u001b[39m(torch\u001b[39m.\u001b[39mstack,\u001b[39mzip\u001b[39m(\u001b[39m*\u001b[39mpoints)): \n\u001b[0;32m---> 62\u001b[0m     reduced \u001b[39m=\u001b[39m \u001b[39mself\u001b[39;49m\u001b[39m.\u001b[39;49mdim_reducer\u001b[39m.\u001b[39;49mfit_transform(component\u001b[39m.\u001b[39;49mflatten(\u001b[39m1\u001b[39;49m)\u001b[39m.\u001b[39;49mcpu())\n\u001b[1;32m     63\u001b[0m     component_clusters \u001b[39m=\u001b[39m \u001b[39mself\u001b[39m\u001b[39m.\u001b[39mcluster_detector\u001b[39m.\u001b[39mfit_predict(reduced)\n\u001b[1;32m     64\u001b[0m     cluster_medians \u001b[39m=\u001b[39m torch\u001b[39m.\u001b[39mstack([\n\u001b[1;32m     65\u001b[0m         \u001b[39mself\u001b[39m\u001b[39m.\u001b[39mcombine_points(\n\u001b[1;32m     66\u001b[0m             component[component_clusters \u001b[39m==\u001b[39m c], \n\u001b[0;32m   (...)\u001b[0m\n\u001b[1;32m     69\u001b[0m         \u001b[39mfor\u001b[39;00m c \u001b[39min\u001b[39;00m np\u001b[39m.\u001b[39munique(component_clusters)\n\u001b[1;32m     70\u001b[0m     ])\n",
      "File \u001b[0;32m~/.conda/envs/robust-fl/lib/python3.10/site-packages/umap/umap_.py:2772\u001b[0m, in \u001b[0;36mUMAP.fit_transform\u001b[0;34m(self, X, y)\u001b[0m\n\u001b[1;32m   2742\u001b[0m \u001b[39mdef\u001b[39;00m \u001b[39mfit_transform\u001b[39m(\u001b[39mself\u001b[39m, X, y\u001b[39m=\u001b[39m\u001b[39mNone\u001b[39;00m):\n\u001b[1;32m   2743\u001b[0m \u001b[39m    \u001b[39m\u001b[39m\"\"\"Fit X into an embedded space and return that transformed\u001b[39;00m\n\u001b[1;32m   2744\u001b[0m \u001b[39m    output.\u001b[39;00m\n\u001b[1;32m   2745\u001b[0m \n\u001b[0;32m   (...)\u001b[0m\n\u001b[1;32m   2770\u001b[0m \u001b[39m        Local radii of data points in the embedding (log-transformed).\u001b[39;00m\n\u001b[1;32m   2771\u001b[0m \u001b[39m    \"\"\"\u001b[39;00m\n\u001b[0;32m-> 2772\u001b[0m     \u001b[39mself\u001b[39;49m\u001b[39m.\u001b[39;49mfit(X, y)\n\u001b[1;32m   2773\u001b[0m     \u001b[39mif\u001b[39;00m \u001b[39mself\u001b[39m\u001b[39m.\u001b[39mtransform_mode \u001b[39m==\u001b[39m \u001b[39m\"\u001b[39m\u001b[39membedding\u001b[39m\u001b[39m\"\u001b[39m:\n\u001b[1;32m   2774\u001b[0m         \u001b[39mif\u001b[39;00m \u001b[39mself\u001b[39m\u001b[39m.\u001b[39moutput_dens:\n",
      "File \u001b[0;32m~/.conda/envs/robust-fl/lib/python3.10/site-packages/umap/umap_.py:2269\u001b[0m, in \u001b[0;36mUMAP.fit\u001b[0;34m(self, X, y)\u001b[0m\n\u001b[1;32m   2249\u001b[0m \u001b[39mdef\u001b[39;00m \u001b[39mfit\u001b[39m(\u001b[39mself\u001b[39m, X, y\u001b[39m=\u001b[39m\u001b[39mNone\u001b[39;00m):\n\u001b[1;32m   2250\u001b[0m \u001b[39m    \u001b[39m\u001b[39m\"\"\"Fit X into an embedded space.\u001b[39;00m\n\u001b[1;32m   2251\u001b[0m \n\u001b[1;32m   2252\u001b[0m \u001b[39m    Optionally use y for supervised dimension reduction.\u001b[39;00m\n\u001b[0;32m   (...)\u001b[0m\n\u001b[1;32m   2266\u001b[0m \u001b[39m        ``target_metric_kwds``.\u001b[39;00m\n\u001b[1;32m   2267\u001b[0m \u001b[39m    \"\"\"\u001b[39;00m\n\u001b[0;32m-> 2269\u001b[0m     X \u001b[39m=\u001b[39m check_array(X, dtype\u001b[39m=\u001b[39;49mnp\u001b[39m.\u001b[39;49mfloat32, accept_sparse\u001b[39m=\u001b[39;49m\u001b[39m\"\u001b[39;49m\u001b[39mcsr\u001b[39;49m\u001b[39m\"\u001b[39;49m, order\u001b[39m=\u001b[39;49m\u001b[39m\"\u001b[39;49m\u001b[39mC\u001b[39;49m\u001b[39m\"\u001b[39;49m)\n\u001b[1;32m   2270\u001b[0m     \u001b[39mself\u001b[39m\u001b[39m.\u001b[39m_raw_data \u001b[39m=\u001b[39m X\n\u001b[1;32m   2272\u001b[0m     \u001b[39m# Handle all the optional arguments, setting default\u001b[39;00m\n",
      "File \u001b[0;32m~/.conda/envs/robust-fl/lib/python3.10/site-packages/sklearn/utils/validation.py:921\u001b[0m, in \u001b[0;36mcheck_array\u001b[0;34m(array, accept_sparse, accept_large_sparse, dtype, order, copy, force_all_finite, ensure_2d, allow_nd, ensure_min_samples, ensure_min_features, estimator, input_name)\u001b[0m\n\u001b[1;32m    915\u001b[0m         \u001b[39mraise\u001b[39;00m \u001b[39mValueError\u001b[39;00m(\n\u001b[1;32m    916\u001b[0m             \u001b[39m\"\u001b[39m\u001b[39mFound array with dim \u001b[39m\u001b[39m%d\u001b[39;00m\u001b[39m. \u001b[39m\u001b[39m%s\u001b[39;00m\u001b[39m expected <= 2.\u001b[39m\u001b[39m\"\u001b[39m\n\u001b[1;32m    917\u001b[0m             \u001b[39m%\u001b[39m (array\u001b[39m.\u001b[39mndim, estimator_name)\n\u001b[1;32m    918\u001b[0m         )\n\u001b[1;32m    920\u001b[0m     \u001b[39mif\u001b[39;00m force_all_finite:\n\u001b[0;32m--> 921\u001b[0m         _assert_all_finite(\n\u001b[1;32m    922\u001b[0m             array,\n\u001b[1;32m    923\u001b[0m             input_name\u001b[39m=\u001b[39;49minput_name,\n\u001b[1;32m    924\u001b[0m             estimator_name\u001b[39m=\u001b[39;49mestimator_name,\n\u001b[1;32m    925\u001b[0m             allow_nan\u001b[39m=\u001b[39;49mforce_all_finite \u001b[39m==\u001b[39;49m \u001b[39m\"\u001b[39;49m\u001b[39mallow-nan\u001b[39;49m\u001b[39m\"\u001b[39;49m,\n\u001b[1;32m    926\u001b[0m         )\n\u001b[1;32m    928\u001b[0m \u001b[39mif\u001b[39;00m ensure_min_samples \u001b[39m>\u001b[39m \u001b[39m0\u001b[39m:\n\u001b[1;32m    929\u001b[0m     n_samples \u001b[39m=\u001b[39m _num_samples(array)\n",
      "File \u001b[0;32m~/.conda/envs/robust-fl/lib/python3.10/site-packages/sklearn/utils/validation.py:161\u001b[0m, in \u001b[0;36m_assert_all_finite\u001b[0;34m(X, allow_nan, msg_dtype, estimator_name, input_name)\u001b[0m\n\u001b[1;32m    144\u001b[0m \u001b[39mif\u001b[39;00m estimator_name \u001b[39mand\u001b[39;00m input_name \u001b[39m==\u001b[39m \u001b[39m\"\u001b[39m\u001b[39mX\u001b[39m\u001b[39m\"\u001b[39m \u001b[39mand\u001b[39;00m has_nan_error:\n\u001b[1;32m    145\u001b[0m     \u001b[39m# Improve the error message on how to handle missing values in\u001b[39;00m\n\u001b[1;32m    146\u001b[0m     \u001b[39m# scikit-learn.\u001b[39;00m\n\u001b[1;32m    147\u001b[0m     msg_err \u001b[39m+\u001b[39m\u001b[39m=\u001b[39m (\n\u001b[1;32m    148\u001b[0m         \u001b[39mf\u001b[39m\u001b[39m\"\u001b[39m\u001b[39m\\n\u001b[39;00m\u001b[39m{\u001b[39;00mestimator_name\u001b[39m}\u001b[39;00m\u001b[39m does not accept missing values\u001b[39m\u001b[39m\"\u001b[39m\n\u001b[1;32m    149\u001b[0m         \u001b[39m\"\u001b[39m\u001b[39m encoded as NaN natively. For supervised learning, you might want\u001b[39m\u001b[39m\"\u001b[39m\n\u001b[0;32m   (...)\u001b[0m\n\u001b[1;32m    159\u001b[0m         \u001b[39m\"\u001b[39m\u001b[39m#estimators-that-handle-nan-values\u001b[39m\u001b[39m\"\u001b[39m\n\u001b[1;32m    160\u001b[0m     )\n\u001b[0;32m--> 161\u001b[0m \u001b[39mraise\u001b[39;00m \u001b[39mValueError\u001b[39;00m(msg_err)\n",
      "\u001b[0;31mValueError\u001b[0m: Input contains NaN."
     ]
    }
   ],
   "source": [
    "from tqdm.auto import tqdm\n",
    "from sklearn.metrics import accuracy_score\n",
    "import torch\n",
    "import numpy as np\n",
    "from simulator import Simulator\n",
    "import yaml\n",
    "\n",
    "setting = yaml.safe_load(open('../configurations/MNIST/MLP/ClusterAgg/average/no_straggle.yaml'))\n",
    "\n",
    "sim = Simulator(**setting)\n",
    "n_epoch = 100\n",
    "\n",
    "for epoch in tqdm(\n",
    "    range(n_epoch), \n",
    "    desc=f'Running {str(sim.output_dir)}', \n",
    "    leave=True,\n",
    "):\n",
    "    picked_clients, to_update_global = sim.step()\n",
    "    avg_losses = [u.avg_loss for u in to_update_global]\n",
    "    train_acc_scores = [u.train_acc_score for u in to_update_global]\n",
    "    test_acc_scores = [u.test_acc_score for u in to_update_global]\n",
    "\n",
    "    print(f'Simulator -- got {len(to_update_global)} updates to incorporate')\n",
    "\n",
    "    nan_in_model = torch.stack([w.isnan().any() for w in sim.global_model.get_state().values()]).any().item()\n",
    "    if nan_in_model:\n",
    "        print('nan is bleeding in!!!!')\n",
    "    \n",
    "    if len(to_update_global):\n",
    "        # only update the global model if we have any updates\n",
    "        avg_train_acc = sum(train_acc_scores) / len(train_acc_scores)\n",
    "        avg_test_acc = sum(test_acc_scores) / len(test_acc_scores)\n",
    "        print(f'Simulator -- avg loss: {sum(avg_losses) / len(to_update_global)}')\n",
    "        print(f'Simulator -- client avg train acc: {sum(train_acc_scores) / len(train_acc_scores)}')\n",
    "        print(f'Simulator -- client avg test acc: {sum(test_acc_scores) / len(test_acc_scores)}')\n",
    "\n",
    "        # Step 4. Update the global model with the finished local updates\n",
    "        new_state = sim.aggregator(sim.global_model, to_update_global)\n",
    "\n",
    "        if new_state is not None:\n",
    "            sim.global_model.set_state(new_state)\n",
    "    else:\n",
    "        avg_train_acc = 0\n",
    "        avg_test_acc = 0\n",
    "    \n",
    "    pred = sim.global_model.predict(sim.x_test)\n",
    "    print(f'Simulator -- Global model test acc: {accuracy_score(sim.y_test, pred)}')"
   ]
  },
  {
   "cell_type": "code",
   "execution_count": 28,
   "metadata": {},
   "outputs": [
    {
     "data": {
      "text/plain": [
       "[True,\n",
       " True,\n",
       " True,\n",
       " True,\n",
       " True,\n",
       " True,\n",
       " True,\n",
       " True,\n",
       " True,\n",
       " True,\n",
       " True,\n",
       " True,\n",
       " True,\n",
       " True,\n",
       " True,\n",
       " True,\n",
       " True,\n",
       " True,\n",
       " True,\n",
       " True]"
      ]
     },
     "execution_count": 28,
     "metadata": {},
     "output_type": "execute_result"
    }
   ],
   "source": [
    "[\n",
    "    torch.stack([w.isnan().any() for w in u.new_state.values()]).any().item()\n",
    "    for u in to_update_global\n",
    "]"
   ]
  },
  {
   "cell_type": "code",
   "execution_count": 25,
   "metadata": {},
   "outputs": [
    {
     "data": {
      "text/plain": [
       "tensor(False)"
      ]
     },
     "execution_count": 25,
     "metadata": {},
     "output_type": "execute_result"
    }
   ],
   "source": [
    "client.x_train.isnan().any()"
   ]
  },
  {
   "cell_type": "code",
   "execution_count": 26,
   "metadata": {},
   "outputs": [
    {
     "data": {
      "text/plain": [
       "tensor(False)"
      ]
     },
     "execution_count": 26,
     "metadata": {},
     "output_type": "execute_result"
    }
   ],
   "source": [
    "client.y_train.isnan().any()"
   ]
  },
  {
   "cell_type": "code",
   "execution_count": 8,
   "metadata": {},
   "outputs": [
    {
     "ename": "ValueError",
     "evalue": "Input contains NaN.",
     "output_type": "error",
     "traceback": [
      "\u001b[0;31m---------------------------------------------------------------------------\u001b[0m",
      "\u001b[0;31mValueError\u001b[0m                                Traceback (most recent call last)",
      "Cell \u001b[0;32mIn[8], line 14\u001b[0m\n\u001b[1;32m     11\u001b[0m final_agg \u001b[39m=\u001b[39m []\n\u001b[1;32m     13\u001b[0m \u001b[39mfor\u001b[39;00m component \u001b[39min\u001b[39;00m \u001b[39mmap\u001b[39m(torch\u001b[39m.\u001b[39mstack,\u001b[39mzip\u001b[39m(\u001b[39m*\u001b[39mpoints)): \n\u001b[0;32m---> 14\u001b[0m     reduced \u001b[39m=\u001b[39m sim\u001b[39m.\u001b[39;49maggregator\u001b[39m.\u001b[39;49mdim_reducer\u001b[39m.\u001b[39;49mfit_transform(component\u001b[39m.\u001b[39;49mflatten(\u001b[39m1\u001b[39;49m)\u001b[39m.\u001b[39;49mcpu())\n\u001b[1;32m     15\u001b[0m     component_clusters \u001b[39m=\u001b[39m sim\u001b[39m.\u001b[39maggregator\u001b[39m.\u001b[39mcluster_detector\u001b[39m.\u001b[39mfit_predict(reduced)\n\u001b[1;32m     16\u001b[0m     cluster_medians \u001b[39m=\u001b[39m torch\u001b[39m.\u001b[39mstack([\n\u001b[1;32m     17\u001b[0m         sim\u001b[39m.\u001b[39maggregator\u001b[39m.\u001b[39mcombine_points(\n\u001b[1;32m     18\u001b[0m             component[component_clusters \u001b[39m==\u001b[39m c], \n\u001b[0;32m   (...)\u001b[0m\n\u001b[1;32m     21\u001b[0m         \u001b[39mfor\u001b[39;00m c \u001b[39min\u001b[39;00m np\u001b[39m.\u001b[39munique(component_clusters)\n\u001b[1;32m     22\u001b[0m     ])\n",
      "File \u001b[0;32m~/.conda/envs/robust-fl/lib/python3.10/site-packages/umap/umap_.py:2772\u001b[0m, in \u001b[0;36mUMAP.fit_transform\u001b[0;34m(self, X, y)\u001b[0m\n\u001b[1;32m   2742\u001b[0m \u001b[39mdef\u001b[39;00m \u001b[39mfit_transform\u001b[39m(\u001b[39mself\u001b[39m, X, y\u001b[39m=\u001b[39m\u001b[39mNone\u001b[39;00m):\n\u001b[1;32m   2743\u001b[0m \u001b[39m    \u001b[39m\u001b[39m\"\"\"Fit X into an embedded space and return that transformed\u001b[39;00m\n\u001b[1;32m   2744\u001b[0m \u001b[39m    output.\u001b[39;00m\n\u001b[1;32m   2745\u001b[0m \n\u001b[0;32m   (...)\u001b[0m\n\u001b[1;32m   2770\u001b[0m \u001b[39m        Local radii of data points in the embedding (log-transformed).\u001b[39;00m\n\u001b[1;32m   2771\u001b[0m \u001b[39m    \"\"\"\u001b[39;00m\n\u001b[0;32m-> 2772\u001b[0m     \u001b[39mself\u001b[39;49m\u001b[39m.\u001b[39;49mfit(X, y)\n\u001b[1;32m   2773\u001b[0m     \u001b[39mif\u001b[39;00m \u001b[39mself\u001b[39m\u001b[39m.\u001b[39mtransform_mode \u001b[39m==\u001b[39m \u001b[39m\"\u001b[39m\u001b[39membedding\u001b[39m\u001b[39m\"\u001b[39m:\n\u001b[1;32m   2774\u001b[0m         \u001b[39mif\u001b[39;00m \u001b[39mself\u001b[39m\u001b[39m.\u001b[39moutput_dens:\n",
      "File \u001b[0;32m~/.conda/envs/robust-fl/lib/python3.10/site-packages/umap/umap_.py:2269\u001b[0m, in \u001b[0;36mUMAP.fit\u001b[0;34m(self, X, y)\u001b[0m\n\u001b[1;32m   2249\u001b[0m \u001b[39mdef\u001b[39;00m \u001b[39mfit\u001b[39m(\u001b[39mself\u001b[39m, X, y\u001b[39m=\u001b[39m\u001b[39mNone\u001b[39;00m):\n\u001b[1;32m   2250\u001b[0m \u001b[39m    \u001b[39m\u001b[39m\"\"\"Fit X into an embedded space.\u001b[39;00m\n\u001b[1;32m   2251\u001b[0m \n\u001b[1;32m   2252\u001b[0m \u001b[39m    Optionally use y for supervised dimension reduction.\u001b[39;00m\n\u001b[0;32m   (...)\u001b[0m\n\u001b[1;32m   2266\u001b[0m \u001b[39m        ``target_metric_kwds``.\u001b[39;00m\n\u001b[1;32m   2267\u001b[0m \u001b[39m    \"\"\"\u001b[39;00m\n\u001b[0;32m-> 2269\u001b[0m     X \u001b[39m=\u001b[39m check_array(X, dtype\u001b[39m=\u001b[39;49mnp\u001b[39m.\u001b[39;49mfloat32, accept_sparse\u001b[39m=\u001b[39;49m\u001b[39m\"\u001b[39;49m\u001b[39mcsr\u001b[39;49m\u001b[39m\"\u001b[39;49m, order\u001b[39m=\u001b[39;49m\u001b[39m\"\u001b[39;49m\u001b[39mC\u001b[39;49m\u001b[39m\"\u001b[39;49m)\n\u001b[1;32m   2270\u001b[0m     \u001b[39mself\u001b[39m\u001b[39m.\u001b[39m_raw_data \u001b[39m=\u001b[39m X\n\u001b[1;32m   2272\u001b[0m     \u001b[39m# Handle all the optional arguments, setting default\u001b[39;00m\n",
      "File \u001b[0;32m~/.conda/envs/robust-fl/lib/python3.10/site-packages/sklearn/utils/validation.py:921\u001b[0m, in \u001b[0;36mcheck_array\u001b[0;34m(array, accept_sparse, accept_large_sparse, dtype, order, copy, force_all_finite, ensure_2d, allow_nd, ensure_min_samples, ensure_min_features, estimator, input_name)\u001b[0m\n\u001b[1;32m    915\u001b[0m         \u001b[39mraise\u001b[39;00m \u001b[39mValueError\u001b[39;00m(\n\u001b[1;32m    916\u001b[0m             \u001b[39m\"\u001b[39m\u001b[39mFound array with dim \u001b[39m\u001b[39m%d\u001b[39;00m\u001b[39m. \u001b[39m\u001b[39m%s\u001b[39;00m\u001b[39m expected <= 2.\u001b[39m\u001b[39m\"\u001b[39m\n\u001b[1;32m    917\u001b[0m             \u001b[39m%\u001b[39m (array\u001b[39m.\u001b[39mndim, estimator_name)\n\u001b[1;32m    918\u001b[0m         )\n\u001b[1;32m    920\u001b[0m     \u001b[39mif\u001b[39;00m force_all_finite:\n\u001b[0;32m--> 921\u001b[0m         _assert_all_finite(\n\u001b[1;32m    922\u001b[0m             array,\n\u001b[1;32m    923\u001b[0m             input_name\u001b[39m=\u001b[39;49minput_name,\n\u001b[1;32m    924\u001b[0m             estimator_name\u001b[39m=\u001b[39;49mestimator_name,\n\u001b[1;32m    925\u001b[0m             allow_nan\u001b[39m=\u001b[39;49mforce_all_finite \u001b[39m==\u001b[39;49m \u001b[39m\"\u001b[39;49m\u001b[39mallow-nan\u001b[39;49m\u001b[39m\"\u001b[39;49m,\n\u001b[1;32m    926\u001b[0m         )\n\u001b[1;32m    928\u001b[0m \u001b[39mif\u001b[39;00m ensure_min_samples \u001b[39m>\u001b[39m \u001b[39m0\u001b[39m:\n\u001b[1;32m    929\u001b[0m     n_samples \u001b[39m=\u001b[39m _num_samples(array)\n",
      "File \u001b[0;32m~/.conda/envs/robust-fl/lib/python3.10/site-packages/sklearn/utils/validation.py:161\u001b[0m, in \u001b[0;36m_assert_all_finite\u001b[0;34m(X, allow_nan, msg_dtype, estimator_name, input_name)\u001b[0m\n\u001b[1;32m    144\u001b[0m \u001b[39mif\u001b[39;00m estimator_name \u001b[39mand\u001b[39;00m input_name \u001b[39m==\u001b[39m \u001b[39m\"\u001b[39m\u001b[39mX\u001b[39m\u001b[39m\"\u001b[39m \u001b[39mand\u001b[39;00m has_nan_error:\n\u001b[1;32m    145\u001b[0m     \u001b[39m# Improve the error message on how to handle missing values in\u001b[39;00m\n\u001b[1;32m    146\u001b[0m     \u001b[39m# scikit-learn.\u001b[39;00m\n\u001b[1;32m    147\u001b[0m     msg_err \u001b[39m+\u001b[39m\u001b[39m=\u001b[39m (\n\u001b[1;32m    148\u001b[0m         \u001b[39mf\u001b[39m\u001b[39m\"\u001b[39m\u001b[39m\\n\u001b[39;00m\u001b[39m{\u001b[39;00mestimator_name\u001b[39m}\u001b[39;00m\u001b[39m does not accept missing values\u001b[39m\u001b[39m\"\u001b[39m\n\u001b[1;32m    149\u001b[0m         \u001b[39m\"\u001b[39m\u001b[39m encoded as NaN natively. For supervised learning, you might want\u001b[39m\u001b[39m\"\u001b[39m\n\u001b[0;32m   (...)\u001b[0m\n\u001b[1;32m    159\u001b[0m         \u001b[39m\"\u001b[39m\u001b[39m#estimators-that-handle-nan-values\u001b[39m\u001b[39m\"\u001b[39m\n\u001b[1;32m    160\u001b[0m     )\n\u001b[0;32m--> 161\u001b[0m \u001b[39mraise\u001b[39;00m \u001b[39mValueError\u001b[39;00m(msg_err)\n",
      "\u001b[0;31mValueError\u001b[0m: Input contains NaN."
     ]
    }
   ],
   "source": [
    "\n",
    "\n",
    "points, update_weights, update_delays = [], [], []\n",
    "for u in to_update_global:\n",
    "    points.append(list(u.new_state.values()))\n",
    "    update_weights.append(u.train_size)\n",
    "    update_delays.append(u.counter)\n",
    "\n",
    "update_weights = torch.tensor(update_weights).to(points[0][0].device)\n",
    "final_agg = []\n",
    "\n",
    "for component in map(torch.stack,zip(*points)): \n",
    "    reduced = sim.aggregator.dim_reducer.fit_transform(component.flatten(1).cpu())\n",
    "    component_clusters = sim.aggregator.cluster_detector.fit_predict(reduced)\n",
    "    cluster_medians = torch.stack([\n",
    "        sim.aggregator.combine_points(\n",
    "            component[component_clusters == c], \n",
    "            update_weights[component_clusters == c],\n",
    "        )\n",
    "        for c in np.unique(component_clusters)\n",
    "    ])\n",
    "    cluster_weights = torch.tensor(np.unique(component_clusters, return_counts = True)[1]).to(cluster_medians.device)\n",
    "    component_agg = sim.aggregator.combine_points(cluster_medians, cluster_weights)         \n",
    "    final_agg.append(component_agg)\n",
    "\n",
    "for i,k in enumerate(new_global_state.keys()):\n",
    "    new_global_state[k] = final_agg[i]"
   ]
  },
  {
   "cell_type": "code",
   "execution_count": 20,
   "metadata": {},
   "outputs": [
    {
     "data": {
      "text/plain": [
       "False"
      ]
     },
     "execution_count": 20,
     "metadata": {},
     "output_type": "execute_result"
    }
   ],
   "source": []
  },
  {
   "cell_type": "code",
   "execution_count": null,
   "metadata": {},
   "outputs": [],
   "source": []
  }
 ],
 "metadata": {
  "kernelspec": {
   "display_name": "venv",
   "language": "python",
   "name": "python3"
  },
  "language_info": {
   "codemirror_mode": {
    "name": "ipython",
    "version": 3
   },
   "file_extension": ".py",
   "mimetype": "text/x-python",
   "name": "python",
   "nbconvert_exporter": "python",
   "pygments_lexer": "ipython3",
   "version": "3.10.10"
  },
  "orig_nbformat": 4
 },
 "nbformat": 4,
 "nbformat_minor": 2
}
